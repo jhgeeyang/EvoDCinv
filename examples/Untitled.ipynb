{
 "cells": [
  {
   "cell_type": "code",
   "execution_count": 1,
   "metadata": {
    "scrolled": true
   },
   "outputs": [
    {
     "ename": "ImportError",
     "evalue": "No module named 'stochopy'",
     "output_type": "error",
     "traceback": [
      "\u001b[0;31m---------------------------------------------------------------------------\u001b[0m",
      "\u001b[0;31mImportError\u001b[0m                               Traceback (most recent call last)",
      "\u001b[0;32m<ipython-input-1-91d481abc3a4>\u001b[0m in \u001b[0;36m<module>\u001b[0;34m()\u001b[0m\n\u001b[1;32m     10\u001b[0m \u001b[0;32mtry\u001b[0m\u001b[0;34m:\u001b[0m\u001b[0;34m\u001b[0m\u001b[0m\n\u001b[0;32m---> 11\u001b[0;31m     \u001b[0;32mfrom\u001b[0m \u001b[0mevodcinv\u001b[0m \u001b[0;32mimport\u001b[0m \u001b[0mThomsonHaskell\u001b[0m\u001b[0;34m\u001b[0m\u001b[0m\n\u001b[0m\u001b[1;32m     12\u001b[0m \u001b[0;32mexcept\u001b[0m \u001b[0mImportError\u001b[0m\u001b[0;34m:\u001b[0m\u001b[0;34m\u001b[0m\u001b[0m\n",
      "\u001b[0;31mImportError\u001b[0m: No module named 'evodcinv'",
      "\nDuring handling of the above exception, another exception occurred:\n",
      "\u001b[0;31mImportError\u001b[0m                               Traceback (most recent call last)",
      "\u001b[0;32m<ipython-input-1-91d481abc3a4>\u001b[0m in \u001b[0;36m<module>\u001b[0;34m()\u001b[0m\n\u001b[1;32m     13\u001b[0m     \u001b[0;32mimport\u001b[0m \u001b[0msys\u001b[0m\u001b[0;34m\u001b[0m\u001b[0m\n\u001b[1;32m     14\u001b[0m     \u001b[0msys\u001b[0m\u001b[0;34m.\u001b[0m\u001b[0mpath\u001b[0m\u001b[0;34m.\u001b[0m\u001b[0mappend\u001b[0m\u001b[0;34m(\u001b[0m\u001b[0;34m\"../\"\u001b[0m\u001b[0;34m)\u001b[0m\u001b[0;34m\u001b[0m\u001b[0m\n\u001b[0;32m---> 15\u001b[0;31m     \u001b[0;32mfrom\u001b[0m \u001b[0mevodcinv\u001b[0m \u001b[0;32mimport\u001b[0m \u001b[0mThomsonHaskell\u001b[0m\u001b[0;34m\u001b[0m\u001b[0m\n\u001b[0m\u001b[1;32m     16\u001b[0m \u001b[0;34m\u001b[0m\u001b[0m\n\u001b[1;32m     17\u001b[0m \u001b[0;34m\u001b[0m\u001b[0m\n",
      "\u001b[0;32m~/proj/surfInv/EvoDCinv/evodcinv/__init__.py\u001b[0m in \u001b[0;36m<module>\u001b[0;34m()\u001b[0m\n\u001b[1;32m      7\u001b[0m \u001b[0;34m\u001b[0m\u001b[0m\n\u001b[1;32m      8\u001b[0m \u001b[0;32mfrom\u001b[0m \u001b[0;34m.\u001b[0m\u001b[0mdispersion_curve\u001b[0m \u001b[0;32mimport\u001b[0m \u001b[0mDispersionCurve\u001b[0m\u001b[0;34m\u001b[0m\u001b[0m\n\u001b[0;32m----> 9\u001b[0;31m \u001b[0;32mfrom\u001b[0m \u001b[0;34m.\u001b[0m\u001b[0mlayered_model\u001b[0m \u001b[0;32mimport\u001b[0m \u001b[0mLayeredModel\u001b[0m\u001b[0;34m,\u001b[0m \u001b[0mparams2lay\u001b[0m\u001b[0;34m,\u001b[0m \u001b[0mparams2vel\u001b[0m\u001b[0;34m\u001b[0m\u001b[0m\n\u001b[0m\u001b[1;32m     10\u001b[0m \u001b[0;32mfrom\u001b[0m \u001b[0;34m.\u001b[0m\u001b[0mthomson_haskell\u001b[0m \u001b[0;32mimport\u001b[0m \u001b[0mThomsonHaskell\u001b[0m\u001b[0;34m\u001b[0m\u001b[0m\n\u001b[1;32m     11\u001b[0m \u001b[0;32mfrom\u001b[0m \u001b[0;34m.\u001b[0m\u001b[0mprogression\u001b[0m \u001b[0;32mimport\u001b[0m \u001b[0mprogress_bar\u001b[0m\u001b[0;34m,\u001b[0m \u001b[0mprogress_perc\u001b[0m\u001b[0;34m,\u001b[0m \u001b[0mprogress\u001b[0m\u001b[0;34m\u001b[0m\u001b[0m\n",
      "\u001b[0;32m~/proj/surfInv/EvoDCinv/evodcinv/layered_model.py\u001b[0m in \u001b[0;36m<module>\u001b[0;34m()\u001b[0m\n\u001b[1;32m      8\u001b[0m \u001b[0;32mfrom\u001b[0m \u001b[0m__future__\u001b[0m \u001b[0;32mimport\u001b[0m \u001b[0mabsolute_import\u001b[0m\u001b[0;34m,\u001b[0m \u001b[0mdivision\u001b[0m\u001b[0;34m,\u001b[0m \u001b[0mprint_function\u001b[0m\u001b[0;34m,\u001b[0m \u001b[0municode_literals\u001b[0m\u001b[0;34m\u001b[0m\u001b[0m\n\u001b[1;32m      9\u001b[0m \u001b[0;32mimport\u001b[0m \u001b[0mnumpy\u001b[0m \u001b[0;32mas\u001b[0m \u001b[0mnp\u001b[0m\u001b[0;34m\u001b[0m\u001b[0m\n\u001b[0;32m---> 10\u001b[0;31m \u001b[0;32mfrom\u001b[0m \u001b[0mstochopy\u001b[0m \u001b[0;32mimport\u001b[0m \u001b[0mEvolutionary\u001b[0m\u001b[0;34m\u001b[0m\u001b[0m\n\u001b[0m\u001b[1;32m     11\u001b[0m \u001b[0;32mfrom\u001b[0m \u001b[0;34m.\u001b[0m\u001b[0mdispersion_curve\u001b[0m \u001b[0;32mimport\u001b[0m \u001b[0mDispersionCurve\u001b[0m\u001b[0;34m\u001b[0m\u001b[0m\n\u001b[1;32m     12\u001b[0m \u001b[0;32mfrom\u001b[0m \u001b[0;34m.\u001b[0m\u001b[0mthomson_haskell\u001b[0m \u001b[0;32mimport\u001b[0m \u001b[0mThomsonHaskell\u001b[0m\u001b[0;34m\u001b[0m\u001b[0m\n",
      "\u001b[0;31mImportError\u001b[0m: No module named 'stochopy'"
     ]
    }
   ],
   "source": [
    "# -*- coding: utf-8 -*-\n",
    "\n",
    "\"\"\"\n",
    "Author: Keurfon Luu <keurfon.luu@mines-paristech.fr>\n",
    "License: MIT\n",
    "\"\"\"\n",
    "\n",
    "import numpy as np\n",
    "import matplotlib.pyplot as plt\n",
    "try:\n",
    "    from evodcinv import ThomsonHaskell\n",
    "except ImportError:\n",
    "    import sys\n",
    "    sys.path.append(\"../\")\n",
    "    from evodcinv import ThomsonHaskell\n",
    "    \n",
    "\n",
    "if __name__ == \"__main__\":\n",
    "    # Parameters\n",
    "    vel = np.loadtxt(\"data/true_model.txt\")\n",
    "    modes = [ int(i) for i in np.arange(19) ]\n",
    "    fmin, fmax, df = 0.1, 10., 0.1\n",
    "    f = np.arange(fmin, fmax+df, df)\n",
    "    ny = 200\n",
    "    n_threads = 8\n",
    "    \n",
    "    # Initialize figure\n",
    "    fig = plt.figure(figsize = (10, 5), facecolor = \"white\")\n",
    "    fig.patch.set_alpha(0.)\n",
    "    ax1 = fig.add_subplot(1, 2, 1)\n",
    "    ax2 = fig.add_subplot(1, 2, 2)\n",
    "    \n",
    "    # Rayleigh-wave FC panel\n",
    "    th = ThomsonHaskell(vel)\n",
    "    th.propagate(f, ny = ny, domain = \"fc\", n_threads = n_threads)\n",
    "    th.plot(axes = ax1)\n",
    "    dcurves = th.pick(modes)\n",
    "    for dcurve in dcurves:\n",
    "        dcurve.plot(axes = ax1, plt_kws = dict(color = \"white\", linewidth = 0.5))\n",
    "    ax1.set_title(\"Rayleigh-wave\")\n",
    "    \n",
    "    # Love-wave FC panel\n",
    "    th = ThomsonHaskell(vel, \"love\")\n",
    "    th.propagate(f, ny = ny, domain = \"fc\", n_threads = n_threads)\n",
    "    th.plot(axes = ax2)\n",
    "    dcurves = th.pick(modes)\n",
    "    for dcurve in dcurves:\n",
    "        dcurve.plot(axes = ax2, plt_kws = dict(color = \"white\", linewidth = 0.5))\n",
    "    ax2.set_title(\"Love-wave\")\n",
    "\n",
    "    fig.tight_layout()\n",
    "    fig.show()\n",
    "    fig.savefig('demo.png', bbox_inches='tight')"
   ]
  },
  {
   "cell_type": "code",
   "execution_count": null,
   "metadata": {},
   "outputs": [],
   "source": []
  },
  {
   "cell_type": "code",
   "execution_count": null,
   "metadata": {},
   "outputs": [],
   "source": []
  }
 ],
 "metadata": {
  "kernelspec": {
   "display_name": "Python 3",
   "language": "python",
   "name": "python3"
  },
  "language_info": {
   "codemirror_mode": {
    "name": "ipython",
    "version": 3
   },
   "file_extension": ".py",
   "mimetype": "text/x-python",
   "name": "python",
   "nbconvert_exporter": "python",
   "pygments_lexer": "ipython3",
   "version": "3.5.2"
  }
 },
 "nbformat": 4,
 "nbformat_minor": 2
}
