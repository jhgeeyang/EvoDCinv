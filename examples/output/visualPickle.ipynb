{
 "cells": [
  {
   "cell_type": "code",
   "execution_count": 11,
   "metadata": {},
   "outputs": [],
   "source": [
    "import numpy as np\n",
    "a = np.array([1,2,3])\n",
    "b = np.array([1,2,3]) +1\n",
    "c = np.array([1,2,3]) +4"
   ]
  },
  {
   "cell_type": "code",
   "execution_count": 12,
   "metadata": {},
   "outputs": [],
   "source": [
    "#catM = np.concatenate((a,b,c),axis=1)\n",
    "a[:,None]   # Reshape\n",
    "catM = np.concatenate((a[:,None],b[:,None],c[:,None]),axis=1)"
   ]
  },
  {
   "cell_type": "code",
   "execution_count": 13,
   "metadata": {},
   "outputs": [
    {
     "data": {
      "text/plain": [
       "array([[1, 2, 5],\n",
       "       [2, 3, 6],\n",
       "       [3, 4, 7]])"
      ]
     },
     "execution_count": 13,
     "metadata": {},
     "output_type": "execute_result"
    }
   ],
   "source": [
    "catM"
   ]
  },
  {
   "cell_type": "code",
   "execution_count": 16,
   "metadata": {},
   "outputs": [],
   "source": [
    "x = np.array([  5.07203186e+02 ,  1.02605200e+03,  7.45088806e+02,   5.23496216e+02,\n",
    "   1.23899818e+02 ,  9.99990000e+04 ,  1.50999999e+00,   2.19000006e+00,\n",
    "   2.17584181e+00])"
   ]
  },
  {
   "cell_type": "code",
   "execution_count": 18,
   "metadata": {},
   "outputs": [],
   "source": [
    "def _nafe_drake(alpha):\n",
    "    coeff = np.array([ 1.6612, -0.4712, 0.0671, -0.0043, 0.000106 ])\n",
    "    alpha_pow = np.array([ alpha*1e-3, (alpha* 1e-3)**2, (alpha*1e-3)**3,\n",
    "                          (alpha*1e-3)**4, (alpha*1e-3)**5 ])\n",
    "    return np.dot(coeff, alpha_pow) * 1e3"
   ]
  },
  {
   "cell_type": "code",
   "execution_count": 26,
   "metadata": {},
   "outputs": [],
   "source": [
    "    # part to convert the x(model) to vel \n",
    "    # func parmas2lay in layered_model.py\n",
    "    n_layers = len(x) // 3\n",
    "    beta = x[:n_layers]\n",
    "    alpha = beta * x[2*n_layers:]\n",
    "    rho = _nafe_drake(alpha)\n",
    "    d = x[n_layers:2*n_layers]\n",
    "    vel = np.concatenate((alpha[:,None], beta[:,None], rho[:,None], d[:,None]), axis = 1)"
   ]
  },
  {
   "cell_type": "code",
   "execution_count": 27,
   "metadata": {},
   "outputs": [
    {
     "data": {
      "text/plain": [
       "array([[  765.87680579,   507.203186  ,  1024.57640383,   523.496216  ],\n",
       "       [ 2247.05394156,  1026.052     ,  2011.35567441,   123.899818  ],\n",
       "       [ 1621.19537626,   745.088806  ,  1712.07977442, 99999.        ]])"
      ]
     },
     "execution_count": 27,
     "metadata": {},
     "output_type": "execute_result"
    }
   ],
   "source": [
    "vel\n",
    "# P S  d thick"
   ]
  },
  {
   "cell_type": "code",
   "execution_count": 25,
   "metadata": {},
   "outputs": [
    {
     "data": {
      "text/plain": [
       "9"
      ]
     },
     "execution_count": 25,
     "metadata": {},
     "output_type": "execute_result"
    }
   ],
   "source": [
    "len(x)\n"
   ]
  },
  {
   "cell_type": "code",
   "execution_count": null,
   "metadata": {},
   "outputs": [],
   "source": []
  }
 ],
 "metadata": {
  "kernelspec": {
   "display_name": "Python 3",
   "language": "python",
   "name": "python3"
  },
  "language_info": {
   "codemirror_mode": {
    "name": "ipython",
    "version": 3
   },
   "file_extension": ".py",
   "mimetype": "text/x-python",
   "name": "python",
   "nbconvert_exporter": "python",
   "pygments_lexer": "ipython3",
   "version": "3.5.2"
  }
 },
 "nbformat": 4,
 "nbformat_minor": 2
}
