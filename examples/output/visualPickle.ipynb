{
 "cells": [
  {
   "cell_type": "code",
   "execution_count": 5,
   "metadata": {},
   "outputs": [],
   "source": [
    "import numpy as np\n",
    "a = np.array([1,2,3])\n",
    "b = np.array([1,2,3]) +1\n",
    "c = np.array([1,2,3]) +4"
   ]
  },
  {
   "cell_type": "code",
   "execution_count": 6,
   "metadata": {},
   "outputs": [],
   "source": [
    "#catM = np.concatenate((a,b,c),axis=1)\n",
    "a[:,None]   # Reshape\n",
    "catM = np.concatenate((a[:,None],b[:,None],c[:,None]),axis=1)"
   ]
  },
  {
   "cell_type": "code",
   "execution_count": 7,
   "metadata": {},
   "outputs": [
    {
     "data": {
      "text/plain": [
       "array([[1, 2, 5],\n",
       "       [2, 3, 6],\n",
       "       [3, 4, 7]])"
      ]
     },
     "execution_count": 7,
     "metadata": {},
     "output_type": "execute_result"
    }
   ],
   "source": [
    "catM"
   ]
  },
  {
   "cell_type": "code",
   "execution_count": 12,
   "metadata": {},
   "outputs": [],
   "source": [
    "x = np.array([  5.07203186e+02 ,  1.02605200e+03,  7.45088806e+02,   5.23496216e+02,\n",
    "   1.23899818e+02 ,  9.99990000e+04 ,  1.50999999e+00,   2.19000006e+00,\n",
    "   2.17584181e+00])\n",
    "x_lessIter = np.array([  4.96959717e+02 ,  9.86508545e+02,   6.70133728e+02 ,  4.93587219e+02,\n",
    "   2.22088287e+02,   9.99990000e+04  , 2.03357601e+00   ,1.51158690e+00,\n",
    "   1.50999999e+00])\n",
    "\n"
   ]
  },
  {
   "cell_type": "code",
   "execution_count": 13,
   "metadata": {},
   "outputs": [],
   "source": [
    "def _nafe_drake(alpha):\n",
    "    coeff = np.array([ 1.6612, -0.4712, 0.0671, -0.0043, 0.000106 ])\n",
    "    alpha_pow = np.array([ alpha*1e-3, (alpha* 1e-3)**2, (alpha*1e-3)**3,\n",
    "                          (alpha*1e-3)**4, (alpha*1e-3)**5 ])\n",
    "    return np.dot(coeff, alpha_pow) * 1e3"
   ]
  },
  {
   "cell_type": "code",
   "execution_count": 14,
   "metadata": {},
   "outputs": [],
   "source": [
    "    # part to convert the x(model) to vel \n",
    "    # func parmas2lay in layered_model.py\n",
    "    n_layers = len(x) // 3\n",
    "    beta = x[:n_layers]\n",
    "    alpha = beta * x[2*n_layers:]\n",
    "    rho = _nafe_drake(alpha)\n",
    "    d = x[n_layers:2*n_layers]\n",
    "    vel = np.concatenate((alpha[:,None], beta[:,None], rho[:,None], d[:,None]), axis = 1)"
   ]
  },
  {
   "cell_type": "code",
   "execution_count": 16,
   "metadata": {},
   "outputs": [
    {
     "data": {
      "text/plain": [
       "array([[  765.87680579,   507.203186  ,  1024.57640383,   523.496216  ],\n",
       "       [ 2247.05394156,  1026.052     ,  2011.35567441,   123.899818  ],\n",
       "       [ 1621.19537626,   745.088806  ,  1712.07977442, 99999.        ]])"
      ]
     },
     "execution_count": 16,
     "metadata": {},
     "output_type": "execute_result"
    }
   ],
   "source": [
    "vel\n",
    "# P S  d thick"
   ]
  },
  {
   "cell_type": "code",
   "execution_count": 17,
   "metadata": {},
   "outputs": [],
   "source": [
    "vel_10iter = vel\n",
    "x = x_lessIter"
   ]
  },
  {
   "cell_type": "code",
   "execution_count": 19,
   "metadata": {},
   "outputs": [],
   "source": [
    "    # part to convert the x(model) to vel \n",
    "    # func parmas2lay in layered_model.py\n",
    "    n_layers = len(x) // 3\n",
    "    beta = x[:n_layers]\n",
    "    alpha = beta * x[2*n_layers:]\n",
    "    rho = _nafe_drake(alpha)\n",
    "    d = x[n_layers:2*n_layers]\n",
    "    vel = np.concatenate((alpha[:,None], beta[:,None], rho[:,None], d[:,None]), axis = 1)"
   ]
  },
  {
   "cell_type": "code",
   "execution_count": 21,
   "metadata": {},
   "outputs": [
    {
     "data": {
      "text/plain": [
       "array([[ 1010.60535843,   496.959717  ,  1262.45412047,   493.587219  ],\n",
       "       [ 1491.19339336,   986.508545  ,  1631.39965272,   222.088287  ],\n",
       "       [ 1011.90192258,   670.133728  ,  1263.6169023 , 99999.        ]])"
      ]
     },
     "execution_count": 21,
     "metadata": {},
     "output_type": "execute_result"
    }
   ],
   "source": [
    "vel\n",
    "# the result of first iteration"
   ]
  },
  {
   "cell_type": "code",
   "execution_count": null,
   "metadata": {},
   "outputs": [],
   "source": []
  }
 ],
 "metadata": {
  "kernelspec": {
   "display_name": "Python 3",
   "language": "python",
   "name": "python3"
  },
  "language_info": {
   "codemirror_mode": {
    "name": "ipython",
    "version": 3
   },
   "file_extension": ".py",
   "mimetype": "text/x-python",
   "name": "python",
   "nbconvert_exporter": "python",
   "pygments_lexer": "ipython3",
   "version": "3.5.2"
  }
 },
 "nbformat": 4,
 "nbformat_minor": 2
}
